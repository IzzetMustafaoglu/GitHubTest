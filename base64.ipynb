{
  "cells": [
    {
      "cell_type": "markdown",
      "metadata": {
        "id": "view-in-github",
        "colab_type": "text"
      },
      "source": [
        "<a href=\"https://colab.research.google.com/github/IzzetMustafaoglu/GitHubTest/blob/master/base64.ipynb\" target=\"_parent\"><img src=\"https://colab.research.google.com/assets/colab-badge.svg\" alt=\"Open In Colab\"/></a>"
      ]
    },
    {
      "cell_type": "code",
      "source": [
        "!pip install imagehash"
      ],
      "metadata": {
        "colab": {
          "base_uri": "https://localhost:8080/"
        },
        "id": "k8265W5c_q27",
        "outputId": "5b7c661a-83b9-4955-8e42-5ee6d6f7ed87"
      },
      "execution_count": null,
      "outputs": [
        {
          "output_type": "stream",
          "name": "stdout",
          "text": [
            "Collecting imagehash\n",
            "  Downloading ImageHash-4.3.1-py2.py3-none-any.whl (296 kB)\n",
            "\u001b[2K     \u001b[90m━━━━━━━━━━━━━━━━━━━━━━━━━━━━━━━━━━━━━━━\u001b[0m \u001b[32m296.5/296.5 kB\u001b[0m \u001b[31m4.0 MB/s\u001b[0m eta \u001b[36m0:00:00\u001b[0m\n",
            "\u001b[?25hRequirement already satisfied: PyWavelets in /usr/local/lib/python3.10/dist-packages (from imagehash) (1.4.1)\n",
            "Requirement already satisfied: numpy in /usr/local/lib/python3.10/dist-packages (from imagehash) (1.23.5)\n",
            "Requirement already satisfied: pillow in /usr/local/lib/python3.10/dist-packages (from imagehash) (9.4.0)\n",
            "Requirement already satisfied: scipy in /usr/local/lib/python3.10/dist-packages (from imagehash) (1.11.2)\n",
            "Installing collected packages: imagehash\n",
            "Successfully installed imagehash-4.3.1\n"
          ]
        }
      ]
    },
    {
      "cell_type": "code",
      "source": [
        "!pip install --upgrade pip\n",
        "!pip install imagehash\n"
      ],
      "metadata": {
        "colab": {
          "base_uri": "https://localhost:8080/"
        },
        "id": "L-uG_i3q_v0U",
        "outputId": "89286540-62e3-42dd-fbd0-5aa270ceede2"
      },
      "execution_count": null,
      "outputs": [
        {
          "output_type": "stream",
          "name": "stdout",
          "text": [
            "Requirement already satisfied: pip in /usr/local/lib/python3.10/dist-packages (23.1.2)\n",
            "Collecting pip\n",
            "  Downloading pip-23.2.1-py3-none-any.whl (2.1 MB)\n",
            "\u001b[2K     \u001b[90m━━━━━━━━━━━━━━━━━━━━━━━━━━━━━━━━━━━━━━━━\u001b[0m \u001b[32m2.1/2.1 MB\u001b[0m \u001b[31m12.8 MB/s\u001b[0m eta \u001b[36m0:00:00\u001b[0m\n",
            "\u001b[?25hInstalling collected packages: pip\n",
            "  Attempting uninstall: pip\n",
            "    Found existing installation: pip 23.1.2\n",
            "    Uninstalling pip-23.1.2:\n",
            "      Successfully uninstalled pip-23.1.2\n",
            "Successfully installed pip-23.2.1\n",
            "Requirement already satisfied: imagehash in /usr/local/lib/python3.10/dist-packages (4.3.1)\n",
            "Requirement already satisfied: PyWavelets in /usr/local/lib/python3.10/dist-packages (from imagehash) (1.4.1)\n",
            "Requirement already satisfied: numpy in /usr/local/lib/python3.10/dist-packages (from imagehash) (1.23.5)\n",
            "Requirement already satisfied: pillow in /usr/local/lib/python3.10/dist-packages (from imagehash) (9.4.0)\n",
            "Requirement already satisfied: scipy in /usr/local/lib/python3.10/dist-packages (from imagehash) (1.11.2)\n",
            "\u001b[33mWARNING: Running pip as the 'root' user can result in broken permissions and conflicting behaviour with the system package manager. It is recommended to use a virtual environment instead: https://pip.pypa.io/warnings/venv\u001b[0m\u001b[33m\n",
            "\u001b[0m"
          ]
        }
      ]
    },
    {
      "cell_type": "code",
      "source": [
        "import sys\n",
        "!{sys.executable} -m pip install imagehash\n"
      ],
      "metadata": {
        "colab": {
          "base_uri": "https://localhost:8080/"
        },
        "id": "dhYQoJuGAVL9",
        "outputId": "9e90ec43-a90d-4da8-a0d6-a6918baf4387"
      },
      "execution_count": null,
      "outputs": [
        {
          "output_type": "stream",
          "name": "stdout",
          "text": [
            "Requirement already satisfied: imagehash in /usr/local/lib/python3.10/dist-packages (4.3.1)\n",
            "Requirement already satisfied: PyWavelets in /usr/local/lib/python3.10/dist-packages (from imagehash) (1.4.1)\n",
            "Requirement already satisfied: numpy in /usr/local/lib/python3.10/dist-packages (from imagehash) (1.23.5)\n",
            "Requirement already satisfied: pillow in /usr/local/lib/python3.10/dist-packages (from imagehash) (9.4.0)\n",
            "Requirement already satisfied: scipy in /usr/local/lib/python3.10/dist-packages (from imagehash) (1.11.2)\n",
            "\u001b[33mWARNING: Running pip as the 'root' user can result in broken permissions and conflicting behaviour with the system package manager. It is recommended to use a virtual environment instead: https://pip.pypa.io/warnings/venv\u001b[0m\u001b[33m\n",
            "\u001b[0m"
          ]
        }
      ]
    },
    {
      "cell_type": "code",
      "execution_count": null,
      "metadata": {
        "id": "wSW43GR_PSMa"
      },
      "outputs": [],
      "source": [
        "from PIL import Image\n",
        "import base64\n",
        "import difflib\n"
      ]
    },
    {
      "cell_type": "code",
      "source": [
        "def image_similarity(image_path1, image_path2):\n",
        "    # resmişeri Base64'e dönüştürme\n",
        "    image1 = Image.open(image_path1)\n",
        "    image1_base64 = base64.b64encode(image1.tobytes()).decode()\n",
        "\n",
        "    image2 = Image.open(image_path2)\n",
        "    image2_base64 = base64.b64encode(image2.tobytes()).decode()\n",
        "\n",
        "    # Base64 kodlarını karşılaştırma\n",
        "    similarity_ratio = difflib.SequenceMatcher(None, image1_base64, image2_base64).ratio()\n",
        "\n",
        "    # Benzerlik yüzdesi\n",
        "    similarity_percentage = similarity_ratio * 100\n",
        "\n",
        "    return similarity_percentage\n",
        "\n"
      ],
      "metadata": {
        "id": "dK-oewhk8CP5"
      },
      "execution_count": null,
      "outputs": []
    },
    {
      "cell_type": "code",
      "source": [
        "import base64\n",
        "import imagehash\n",
        "from PIL import Image\n",
        "from io import BytesIO"
      ],
      "metadata": {
        "id": "zOj4B4zC_F2f"
      },
      "execution_count": null,
      "outputs": []
    },
    {
      "cell_type": "code",
      "source": [
        "\n",
        "def image_similarity(image_base64_1, image_base64_2):\n",
        "    # resmişeri Base64'e dönüştürme\n",
        "    image1_data = base64.b64decode(image_base64_1)\n",
        "    image2_data = base64.b64decode(image_base64_2)\n",
        "\n",
        "    image1 = Image.open(BytesIO(image1_data))\n",
        "    image2 = Image.open(BytesIO(image2_data))\n",
        "\n",
        "    # Resimleri aynı boyuta getirme\n",
        "    image1 = image1.resize(image2.size)\n",
        "\n",
        "    # phash kullanarak benzerlik hesaplaması\n",
        "    phash1 = imagehash.phash(image1)\n",
        "    phash2 = imagehash.phash(image2)\n",
        "\n",
        "    # Benzerlik yüzdesi\n",
        "    similarity_percentage = (1 - (phash1 - phash2) / 64) * 100\n",
        "\n",
        "    return similarity_percentage\n"
      ],
      "metadata": {
        "id": "uWC-h2qKBYWW"
      },
      "execution_count": null,
      "outputs": []
    },
    {
      "cell_type": "code",
      "source": [
        "resimler = [\"/content/doga.jpg\",\"/content/doga2.jpg\",\"/content/doga_dunya.jpg\",\n",
        "           \"/content/dunya.jpg\",\"/content/dunya2.jpg\",\"/content/monalisa.jpg\",\n",
        "           \"/content/monalisa2.png\",\"/content/monalisa_dunya.jpg\",\"/content/resim3.jpg\",\n",
        "           \"/content/resim3_farkli_boyut.jpg\",\"/content/resim3_ters.jpg\",\n",
        "           \"/content/tasarim2.jpg\",\"/content/tasarim3.jpg\"]\n"
      ],
      "metadata": {
        "id": "ivTfdSq4Ba6U"
      },
      "execution_count": null,
      "outputs": []
    },
    {
      "cell_type": "code",
      "source": [
        "# Karşılaştırmak istediğimiz resim\n",
        "with open(resimler[1], \"rb\") as image_file1:\n",
        "    print(f\"Karşılaştırılacak Resim {resimler[5]}\")\n",
        "    print(\"..........................................\")\n",
        "    image_base64_1 = base64.b64encode(image_file1.read()).decode()\n",
        "\n",
        "# Tüm resimleri karşılaştırma\n",
        "for resim_path in resimler:\n",
        "    with open(resim_path, \"rb\") as image_file2:\n",
        "        image_base64_2 = base64.b64encode(image_file2.read()).decode()\n",
        "\n",
        "    similarity = image_similarity(image_base64_1, image_base64_2)\n",
        "    print(f\"{resim_path}: Resimler %{similarity} benziyor.\")\n"
      ],
      "metadata": {
        "colab": {
          "base_uri": "https://localhost:8080/"
        },
        "id": "4BKJptOKFloF",
        "outputId": "017e0253-52ad-4fd5-d6c2-e1e7d7f1e5b0"
      },
      "execution_count": null,
      "outputs": [
        {
          "output_type": "stream",
          "name": "stdout",
          "text": [
            "Karşılaştırılacak Resim /content/monalisa.jpg\n",
            "..........................................\n",
            "/content/doga.jpg: Resimler %84.375 benziyor.\n",
            "/content/doga2.jpg: Resimler %100.0 benziyor.\n",
            "/content/doga_dunya.jpg: Resimler %56.25 benziyor.\n",
            "/content/dunya.jpg: Resimler %56.25 benziyor.\n",
            "/content/dunya2.jpg: Resimler %56.25 benziyor.\n",
            "/content/monalisa.jpg: Resimler %53.125 benziyor.\n",
            "/content/monalisa2.png: Resimler %53.125 benziyor.\n",
            "/content/monalisa_dunya.jpg: Resimler %50.0 benziyor.\n",
            "/content/resim3.jpg: Resimler %40.625 benziyor.\n",
            "/content/resim3_farkli_boyut.jpg: Resimler %40.625 benziyor.\n",
            "/content/resim3_ters.jpg: Resimler %40.625 benziyor.\n",
            "/content/tasarim2.jpg: Resimler %40.625 benziyor.\n",
            "/content/tasarim3.jpg: Resimler %40.625 benziyor.\n"
          ]
        }
      ]
    }
  ],
  "metadata": {
    "colab": {
      "provenance": [],
      "authorship_tag": "ABX9TyP7txK6zq9yYjC5TzcqQo75",
      "include_colab_link": true
    },
    "kernelspec": {
      "display_name": "Python 3",
      "name": "python3"
    },
    "language_info": {
      "name": "python"
    },
    "accelerator": "TPU"
  },
  "nbformat": 4,
  "nbformat_minor": 0
}